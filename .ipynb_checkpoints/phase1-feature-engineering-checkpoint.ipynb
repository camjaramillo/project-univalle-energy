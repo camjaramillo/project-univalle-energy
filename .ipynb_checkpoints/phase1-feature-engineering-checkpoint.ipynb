{
 "cells": [
  {
   "cell_type": "markdown",
   "id": "5ee5f688-9ff2-47f5-b193-d2cdc2cdfc10",
   "metadata": {},
   "source": [
    "# Univalle Energy"
   ]
  },
  {
   "cell_type": "markdown",
   "id": "56bcfe05-eaa9-4549-b664-3f44eb2d2473",
   "metadata": {},
   "source": [
    "## Description about this project"
   ]
  },
  {
   "cell_type": "markdown",
   "id": "3ac4a2db-72c2-4d8c-ab56-08f7ac35fb78",
   "metadata": {},
   "source": []
  },
  {
   "cell_type": "markdown",
   "id": "65eac25d-61d7-48b6-94b9-527456d74a32",
   "metadata": {},
   "source": [
    "## Feature engineering - Data transformation\n",
    "This phase will be divided into two parts, one is the representation of data and the other is the extraction and selection features.\n",
    "\n",
    "In this notebook the data will be explored. So, non-numerical data will be encoded with numbers to represent them. Finally, a file will be exported with the transformed data."
   ]
  },
  {
   "cell_type": "code",
   "execution_count": 9,
   "id": "8bca4184-d314-47d3-9bca-45f72f297e7a",
   "metadata": {},
   "outputs": [],
   "source": [
    "#Install scikit learn\n",
    "#!pip install scikit-learn --upgrade\n",
    "#!pip install matplotlib\n",
    "#!pip install seaborn"
   ]
  },
  {
   "cell_type": "markdown",
   "id": "473e1aba-8ccb-4cb6-b90a-8d9d11280e48",
   "metadata": {},
   "source": [
    "## Import libraries"
   ]
  },
  {
   "cell_type": "code",
   "execution_count": 10,
   "id": "ecad866e-7ae1-4a5b-9076-cd6be87c6374",
   "metadata": {},
   "outputs": [],
   "source": [
    "# Pandas\n",
    "import pandas as pd\n",
    "\n",
    "# Numpy\n",
    "import numpy as np\n",
    "\n",
    "#*******************************************************************************************\n",
    "#To see the supplied dataset, we can use the matplotlib and seaborn libraries:\n",
    "\n",
    "import matplotlib.pyplot as plt\n",
    "import seaborn as sns\n",
    "%matplotlib inline"
   ]
  },
  {
   "cell_type": "markdown",
   "id": "d3905f80-561a-4b16-bce2-1c7ffe22217c",
   "metadata": {},
   "source": [
    "## Import dataset\n",
    "Import dataset to pandas dataframe"
   ]
  },
  {
   "cell_type": "code",
   "execution_count": null,
   "id": "573361ae-8ee3-4436-8ce1-01b52e58762e",
   "metadata": {},
   "outputs": [],
   "source": []
  },
  {
   "cell_type": "code",
   "execution_count": null,
   "id": "7b1daabd-9823-4376-a203-cf9e7b39078f",
   "metadata": {},
   "outputs": [],
   "source": []
  }
 ],
 "metadata": {
  "kernelspec": {
   "display_name": "Python 3 (ipykernel)",
   "language": "python",
   "name": "python3"
  },
  "language_info": {
   "codemirror_mode": {
    "name": "ipython",
    "version": 3
   },
   "file_extension": ".py",
   "mimetype": "text/x-python",
   "name": "python",
   "nbconvert_exporter": "python",
   "pygments_lexer": "ipython3",
   "version": "3.12.4"
  }
 },
 "nbformat": 4,
 "nbformat_minor": 5
}
