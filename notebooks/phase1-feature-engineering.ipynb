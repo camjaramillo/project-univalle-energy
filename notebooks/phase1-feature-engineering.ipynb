{
 "cells": [
  {
   "cell_type": "markdown",
   "id": "5ee5f688-9ff2-47f5-b193-d2cdc2cdfc10",
   "metadata": {},
   "source": [
    "# Univalle Energy"
   ]
  },
  {
   "cell_type": "markdown",
   "id": "56bcfe05-eaa9-4549-b664-3f44eb2d2473",
   "metadata": {},
   "source": [
    "## Description about this project"
   ]
  },
  {
   "cell_type": "markdown",
   "id": "3ac4a2db-72c2-4d8c-ab56-08f7ac35fb78",
   "metadata": {},
   "source": []
  },
  {
   "cell_type": "markdown",
   "id": "65eac25d-61d7-48b6-94b9-527456d74a32",
   "metadata": {},
   "source": [
    "## Feature engineering - Data transformation\n",
    "This phase will be divided into two parts, one is the representation of data and the other is the extraction and selection features.\n",
    "\n",
    "In this notebook the data will be explored. So, non-numerical data will be encoded with numbers to represent them. Finally, a file will be exported with the transformed data."
   ]
  },
  {
   "cell_type": "code",
   "execution_count": 1,
   "id": "8bca4184-d314-47d3-9bca-45f72f297e7a",
   "metadata": {},
   "outputs": [],
   "source": [
    "#Install scikit learn\n",
    "#!pip install scikit-learn --upgrade\n",
    "#!pip install matplotlib\n",
    "#!pip install seaborn"
   ]
  },
  {
   "cell_type": "markdown",
   "id": "473e1aba-8ccb-4cb6-b90a-8d9d11280e48",
   "metadata": {},
   "source": [
    "## Import libraries"
   ]
  },
  {
   "cell_type": "code",
   "execution_count": 2,
   "id": "ecad866e-7ae1-4a5b-9076-cd6be87c6374",
   "metadata": {},
   "outputs": [],
   "source": [
    "# Pandas\n",
    "import pandas as pd\n",
    "\n",
    "# Numpy\n",
    "import numpy as np\n",
    "\n",
    "#*******************************************************************************************\n",
    "#To see the supplied dataset, we can use the matplotlib and seaborn libraries:\n",
    "\n",
    "import matplotlib.pyplot as plt\n",
    "import seaborn as sns\n",
    "%matplotlib inline"
   ]
  },
  {
   "cell_type": "markdown",
   "id": "d3905f80-561a-4b16-bce2-1c7ffe22217c",
   "metadata": {},
   "source": [
    "## Import dataset\n",
    "Import dataset to pandas dataframe"
   ]
  },
  {
   "cell_type": "code",
   "execution_count": 3,
   "id": "573361ae-8ee3-4436-8ce1-01b52e58762e",
   "metadata": {},
   "outputs": [
    {
     "data": {
      "text/html": [
       "<div>\n",
       "<style scoped>\n",
       "    .dataframe tbody tr th:only-of-type {\n",
       "        vertical-align: middle;\n",
       "    }\n",
       "\n",
       "    .dataframe tbody tr th {\n",
       "        vertical-align: top;\n",
       "    }\n",
       "\n",
       "    .dataframe thead th {\n",
       "        text-align: right;\n",
       "    }\n",
       "</style>\n",
       "<table border=\"1\" class=\"dataframe\">\n",
       "  <thead>\n",
       "    <tr style=\"text-align: right;\">\n",
       "      <th></th>\n",
       "      <th>CONTRATO</th>\n",
       "      <th>PRODUCTO</th>\n",
       "      <th>ID_SERVICIO</th>\n",
       "      <th>SBSERVICIO</th>\n",
       "      <th>ESTADO_DE_CUENTA</th>\n",
       "      <th>CUENTA_DE_COBRO</th>\n",
       "      <th>SBSIGNO</th>\n",
       "      <th>ID_CONCEPTO</th>\n",
       "      <th>SBCONCEPTO</th>\n",
       "      <th>FINANCIABLE</th>\n",
       "      <th>...</th>\n",
       "      <th>IVA</th>\n",
       "      <th>UNIDADES</th>\n",
       "      <th>CONSECUTIVO_DOC</th>\n",
       "      <th>DOCUMENTO_SOPORTE</th>\n",
       "      <th>PROGRAMA</th>\n",
       "      <th>USUARIO</th>\n",
       "      <th>TERMINAL</th>\n",
       "      <th>FECHA_DEL_CARGO</th>\n",
       "      <th>CAUSA</th>\n",
       "      <th>FECHA_CONTABLE</th>\n",
       "    </tr>\n",
       "  </thead>\n",
       "  <tbody>\n",
       "    <tr>\n",
       "      <th>3261</th>\n",
       "      <td>46530656</td>\n",
       "      <td>12953193</td>\n",
       "      <td>6140</td>\n",
       "      <td>Energ�a Domiciliario</td>\n",
       "      <td>376256594</td>\n",
       "      <td>1075514127</td>\n",
       "      <td>DB</td>\n",
       "      <td>1039</td>\n",
       "      <td>VALOR CONSUMO ENERGIA</td>\n",
       "      <td>S</td>\n",
       "      <td>...</td>\n",
       "      <td>0</td>\n",
       "      <td>6660.0</td>\n",
       "      <td>3054618889</td>\n",
       "      <td>CO-202311-TC-0003</td>\n",
       "      <td>FGCA</td>\n",
       "      <td>LEONROJT</td>\n",
       "      <td>emcalipdn</td>\n",
       "      <td>21/11/2023 04:44:42 p.m.</td>\n",
       "      <td>-1</td>\n",
       "      <td>24/11/2023</td>\n",
       "    </tr>\n",
       "    <tr>\n",
       "      <th>3262</th>\n",
       "      <td>46530656</td>\n",
       "      <td>12953193</td>\n",
       "      <td>6140</td>\n",
       "      <td>Energ�a Domiciliario</td>\n",
       "      <td>378438761</td>\n",
       "      <td>1079902067</td>\n",
       "      <td>DB</td>\n",
       "      <td>1039</td>\n",
       "      <td>VALOR CONSUMO ENERGIA</td>\n",
       "      <td>S</td>\n",
       "      <td>...</td>\n",
       "      <td>0</td>\n",
       "      <td>6600.0</td>\n",
       "      <td>3079442550</td>\n",
       "      <td>CO-202312-TC-0003</td>\n",
       "      <td>FGCA</td>\n",
       "      <td>LEONROJT</td>\n",
       "      <td>emcalipdn</td>\n",
       "      <td>18/12/2023 09:45:46 a.m.</td>\n",
       "      <td>-1</td>\n",
       "      <td>21/12/2023</td>\n",
       "    </tr>\n",
       "    <tr>\n",
       "      <th>3263</th>\n",
       "      <td>46530656</td>\n",
       "      <td>12953193</td>\n",
       "      <td>6140</td>\n",
       "      <td>Energ�a Domiciliario</td>\n",
       "      <td>380600778</td>\n",
       "      <td>1084253251</td>\n",
       "      <td>DB</td>\n",
       "      <td>1039</td>\n",
       "      <td>VALOR CONSUMO ENERGIA</td>\n",
       "      <td>S</td>\n",
       "      <td>...</td>\n",
       "      <td>0</td>\n",
       "      <td>7800.0</td>\n",
       "      <td>3133092841</td>\n",
       "      <td>CO-202401-TC-0003</td>\n",
       "      <td>FGCA</td>\n",
       "      <td>JORGRIC1</td>\n",
       "      <td>emcalipdn</td>\n",
       "      <td>23/01/2024 03:49:00 p.m.</td>\n",
       "      <td>-1</td>\n",
       "      <td>25/01/2024</td>\n",
       "    </tr>\n",
       "    <tr>\n",
       "      <th>3264</th>\n",
       "      <td>46530656</td>\n",
       "      <td>12953193</td>\n",
       "      <td>6140</td>\n",
       "      <td>Energ�a Domiciliario</td>\n",
       "      <td>382596485</td>\n",
       "      <td>1088016373</td>\n",
       "      <td>DB</td>\n",
       "      <td>1039</td>\n",
       "      <td>VALOR CONSUMO ENERGIA</td>\n",
       "      <td>S</td>\n",
       "      <td>...</td>\n",
       "      <td>0</td>\n",
       "      <td>8820.0</td>\n",
       "      <td>3157578108</td>\n",
       "      <td>CO-202402-TC-0003</td>\n",
       "      <td>FGCA</td>\n",
       "      <td>LEONROJT</td>\n",
       "      <td>emcalipdn</td>\n",
       "      <td>15/02/2024 10:36:29 p.m.</td>\n",
       "      <td>-1</td>\n",
       "      <td>17/02/2024</td>\n",
       "    </tr>\n",
       "    <tr>\n",
       "      <th>3265</th>\n",
       "      <td>46530656</td>\n",
       "      <td>12953193</td>\n",
       "      <td>6140</td>\n",
       "      <td>Energ�a Domiciliario</td>\n",
       "      <td>384742340</td>\n",
       "      <td>1092189546</td>\n",
       "      <td>DB</td>\n",
       "      <td>1039</td>\n",
       "      <td>VALOR CONSUMO ENERGIA</td>\n",
       "      <td>S</td>\n",
       "      <td>...</td>\n",
       "      <td>0</td>\n",
       "      <td>8640.0</td>\n",
       "      <td>3184208219</td>\n",
       "      <td>CO-202403-TC-0003</td>\n",
       "      <td>FGCA</td>\n",
       "      <td>LEONROJT</td>\n",
       "      <td>emcalipdn</td>\n",
       "      <td>15/03/2024 01:38:51 p.m.</td>\n",
       "      <td>-1</td>\n",
       "      <td>16/03/2024</td>\n",
       "    </tr>\n",
       "  </tbody>\n",
       "</table>\n",
       "<p>5 rows × 24 columns</p>\n",
       "</div>"
      ],
      "text/plain": [
       "      CONTRATO  PRODUCTO  ID_SERVICIO            SBSERVICIO  ESTADO_DE_CUENTA  \\\n",
       "3261  46530656  12953193         6140  Energ�a Domiciliario         376256594   \n",
       "3262  46530656  12953193         6140  Energ�a Domiciliario         378438761   \n",
       "3263  46530656  12953193         6140  Energ�a Domiciliario         380600778   \n",
       "3264  46530656  12953193         6140  Energ�a Domiciliario         382596485   \n",
       "3265  46530656  12953193         6140  Energ�a Domiciliario         384742340   \n",
       "\n",
       "      CUENTA_DE_COBRO SBSIGNO  ID_CONCEPTO             SBCONCEPTO FINANCIABLE  \\\n",
       "3261       1075514127      DB         1039  VALOR CONSUMO ENERGIA           S   \n",
       "3262       1079902067      DB         1039  VALOR CONSUMO ENERGIA           S   \n",
       "3263       1084253251      DB         1039  VALOR CONSUMO ENERGIA           S   \n",
       "3264       1088016373      DB         1039  VALOR CONSUMO ENERGIA           S   \n",
       "3265       1092189546      DB         1039  VALOR CONSUMO ENERGIA           S   \n",
       "\n",
       "      ...  IVA  UNIDADES  CONSECUTIVO_DOC  DOCUMENTO_SOPORTE  PROGRAMA  \\\n",
       "3261  ...    0    6660.0       3054618889  CO-202311-TC-0003      FGCA   \n",
       "3262  ...    0    6600.0       3079442550  CO-202312-TC-0003      FGCA   \n",
       "3263  ...    0    7800.0       3133092841  CO-202401-TC-0003      FGCA   \n",
       "3264  ...    0    8820.0       3157578108  CO-202402-TC-0003      FGCA   \n",
       "3265  ...    0    8640.0       3184208219  CO-202403-TC-0003      FGCA   \n",
       "\n",
       "       USUARIO   TERMINAL           FECHA_DEL_CARGO CAUSA FECHA_CONTABLE  \n",
       "3261  LEONROJT  emcalipdn  21/11/2023 04:44:42 p.m.    -1     24/11/2023  \n",
       "3262  LEONROJT  emcalipdn  18/12/2023 09:45:46 a.m.    -1     21/12/2023  \n",
       "3263  JORGRIC1  emcalipdn  23/01/2024 03:49:00 p.m.    -1     25/01/2024  \n",
       "3264  LEONROJT  emcalipdn  15/02/2024 10:36:29 p.m.    -1     17/02/2024  \n",
       "3265  LEONROJT  emcalipdn  15/03/2024 01:38:51 p.m.    -1     16/03/2024  \n",
       "\n",
       "[5 rows x 24 columns]"
      ]
     },
     "execution_count": 3,
     "metadata": {},
     "output_type": "execute_result"
    }
   ],
   "source": [
    "df = pd.read_csv('../data/dataset_consumo_energia_uv_1.csv')\n",
    "df.tail()"
   ]
  },
  {
   "cell_type": "code",
   "execution_count": 4,
   "id": "7b1daabd-9823-4376-a203-cf9e7b39078f",
   "metadata": {},
   "outputs": [
    {
     "name": "stdout",
     "output_type": "stream",
     "text": [
      "Tamaño del dataset\n",
      "Total filas: 3266\n",
      "Total columnas: 24\n"
     ]
    }
   ],
   "source": [
    "print(\"Tamaño del dataset\")\n",
    "print(f'Total filas: {df.shape[0]}')\n",
    "print(f'Total columnas: {df.shape[1]}')"
   ]
  },
  {
   "cell_type": "markdown",
   "id": "a568e9cc-6911-4bcb-8f86-f70931383e9a",
   "metadata": {},
   "source": [
    "## Description"
   ]
  },
  {
   "cell_type": "code",
   "execution_count": 5,
   "id": "cb7999e8-5dba-4458-b19d-ec77363cb8d3",
   "metadata": {},
   "outputs": [
    {
     "name": "stdout",
     "output_type": "stream",
     "text": [
      "<class 'pandas.core.frame.DataFrame'>\n",
      "RangeIndex: 3266 entries, 0 to 3265\n",
      "Data columns (total 24 columns):\n",
      " #   Column               Non-Null Count  Dtype  \n",
      "---  ------               --------------  -----  \n",
      " 0   CONTRATO             3266 non-null   int64  \n",
      " 1   PRODUCTO             3266 non-null   int64  \n",
      " 2   ID_SERVICIO          3266 non-null   int64  \n",
      " 3   SBSERVICIO           3266 non-null   object \n",
      " 4   ESTADO_DE_CUENTA     3266 non-null   int64  \n",
      " 5   CUENTA_DE_COBRO      3266 non-null   int64  \n",
      " 6   SBSIGNO              3266 non-null   object \n",
      " 7   ID_CONCEPTO          3266 non-null   int64  \n",
      " 8   SBCONCEPTO           3266 non-null   object \n",
      " 9   FINANCIABLE          3266 non-null   object \n",
      " 10  MES                  3266 non-null   int64  \n",
      " 11  AÑO                  3266 non-null   int64  \n",
      " 12  PERIODO_FACTURACION  3266 non-null   int64  \n",
      " 13  VALOR                3266 non-null   float64\n",
      " 14  IVA                  3266 non-null   int64  \n",
      " 15  UNIDADES             3266 non-null   float64\n",
      " 16  CONSECUTIVO_DOC      3266 non-null   int64  \n",
      " 17  DOCUMENTO_SOPORTE    3266 non-null   object \n",
      " 18  PROGRAMA             3266 non-null   object \n",
      " 19  USUARIO              3266 non-null   object \n",
      " 20  TERMINAL             3266 non-null   object \n",
      " 21  FECHA_DEL_CARGO      3266 non-null   object \n",
      " 22  CAUSA                3266 non-null   int64  \n",
      " 23  FECHA_CONTABLE       3266 non-null   object \n",
      "dtypes: float64(2), int64(12), object(10)\n",
      "memory usage: 612.5+ KB\n"
     ]
    }
   ],
   "source": [
    "df.info()"
   ]
  },
  {
   "cell_type": "code",
   "execution_count": 6,
   "id": "9c915380-1b87-4231-a5e8-402e920db35e",
   "metadata": {},
   "outputs": [],
   "source": [
    "# No hay datos faltantes"
   ]
  },
  {
   "cell_type": "code",
   "execution_count": 7,
   "id": "82f3047e-77dc-41fd-9b46-8501dceb2d4c",
   "metadata": {},
   "outputs": [],
   "source": [
    "# Eliminación de columnas\n",
    "drop_columns = ['PRODUCTO', \n",
    "                'SBSERVICIO',\n",
    "                'ID_SERVICIO',\n",
    "                'ID_CONCEPTO',\n",
    "                'CUENTA_DE_COBRO', \n",
    "                'SBCONCEPTO',\n",
    "                'FINANCIABLE',\n",
    "                'IVA', \n",
    "                'DOCUMENTO_SOPORTE', \n",
    "                'PROGRAMA', \n",
    "                'USUARIO', \n",
    "                'TERMINAL', \n",
    "                'FECHA_DEL_CARGO',\n",
    "                'CAUSA', \n",
    "                'FECHA_CONTABLE'\n",
    "               ]"
   ]
  },
  {
   "cell_type": "code",
   "execution_count": 8,
   "id": "187d135d-e985-4f22-87e9-1c58417ec9ff",
   "metadata": {},
   "outputs": [
    {
     "data": {
      "text/html": [
       "<div>\n",
       "<style scoped>\n",
       "    .dataframe tbody tr th:only-of-type {\n",
       "        vertical-align: middle;\n",
       "    }\n",
       "\n",
       "    .dataframe tbody tr th {\n",
       "        vertical-align: top;\n",
       "    }\n",
       "\n",
       "    .dataframe thead th {\n",
       "        text-align: right;\n",
       "    }\n",
       "</style>\n",
       "<table border=\"1\" class=\"dataframe\">\n",
       "  <thead>\n",
       "    <tr style=\"text-align: right;\">\n",
       "      <th></th>\n",
       "      <th>CONTRATO</th>\n",
       "      <th>ESTADO_DE_CUENTA</th>\n",
       "      <th>SBSIGNO</th>\n",
       "      <th>MES</th>\n",
       "      <th>AÑO</th>\n",
       "      <th>PERIODO_FACTURACION</th>\n",
       "      <th>VALOR</th>\n",
       "      <th>UNIDADES</th>\n",
       "      <th>CONSECUTIVO_DOC</th>\n",
       "    </tr>\n",
       "  </thead>\n",
       "  <tbody>\n",
       "    <tr>\n",
       "      <th>3261</th>\n",
       "      <td>46530656</td>\n",
       "      <td>376256594</td>\n",
       "      <td>DB</td>\n",
       "      <td>11</td>\n",
       "      <td>2023</td>\n",
       "      <td>226467</td>\n",
       "      <td>5375725.56</td>\n",
       "      <td>6660.0</td>\n",
       "      <td>3054618889</td>\n",
       "    </tr>\n",
       "    <tr>\n",
       "      <th>3262</th>\n",
       "      <td>46530656</td>\n",
       "      <td>378438761</td>\n",
       "      <td>DB</td>\n",
       "      <td>12</td>\n",
       "      <td>2023</td>\n",
       "      <td>226523</td>\n",
       "      <td>5369134.98</td>\n",
       "      <td>6600.0</td>\n",
       "      <td>3079442550</td>\n",
       "    </tr>\n",
       "    <tr>\n",
       "      <th>3263</th>\n",
       "      <td>46530656</td>\n",
       "      <td>380600778</td>\n",
       "      <td>DB</td>\n",
       "      <td>1</td>\n",
       "      <td>2024</td>\n",
       "      <td>226673</td>\n",
       "      <td>6406658.70</td>\n",
       "      <td>7800.0</td>\n",
       "      <td>3133092841</td>\n",
       "    </tr>\n",
       "    <tr>\n",
       "      <th>3264</th>\n",
       "      <td>46530656</td>\n",
       "      <td>382596485</td>\n",
       "      <td>DB</td>\n",
       "      <td>2</td>\n",
       "      <td>2024</td>\n",
       "      <td>226771</td>\n",
       "      <td>7111362.26</td>\n",
       "      <td>8820.0</td>\n",
       "      <td>3157578108</td>\n",
       "    </tr>\n",
       "    <tr>\n",
       "      <th>3265</th>\n",
       "      <td>46530656</td>\n",
       "      <td>384742340</td>\n",
       "      <td>DB</td>\n",
       "      <td>3</td>\n",
       "      <td>2024</td>\n",
       "      <td>226917</td>\n",
       "      <td>7099121.66</td>\n",
       "      <td>8640.0</td>\n",
       "      <td>3184208219</td>\n",
       "    </tr>\n",
       "  </tbody>\n",
       "</table>\n",
       "</div>"
      ],
      "text/plain": [
       "      CONTRATO  ESTADO_DE_CUENTA SBSIGNO  MES   AÑO  PERIODO_FACTURACION  \\\n",
       "3261  46530656         376256594      DB   11  2023               226467   \n",
       "3262  46530656         378438761      DB   12  2023               226523   \n",
       "3263  46530656         380600778      DB    1  2024               226673   \n",
       "3264  46530656         382596485      DB    2  2024               226771   \n",
       "3265  46530656         384742340      DB    3  2024               226917   \n",
       "\n",
       "           VALOR  UNIDADES  CONSECUTIVO_DOC  \n",
       "3261  5375725.56    6660.0       3054618889  \n",
       "3262  5369134.98    6600.0       3079442550  \n",
       "3263  6406658.70    7800.0       3133092841  \n",
       "3264  7111362.26    8820.0       3157578108  \n",
       "3265  7099121.66    8640.0       3184208219  "
      ]
     },
     "execution_count": 8,
     "metadata": {},
     "output_type": "execute_result"
    }
   ],
   "source": [
    "df.drop(drop_columns, axis=1, inplace=True)\n",
    "df.tail()"
   ]
  },
  {
   "cell_type": "code",
   "execution_count": 9,
   "id": "a3396ba1-594e-46eb-bef6-97279e4e806e",
   "metadata": {},
   "outputs": [
    {
     "name": "stdout",
     "output_type": "stream",
     "text": [
      "Tamaño del dataset luego de eliminación de columnas\n",
      "Total filas: 3266\n",
      "Total columnas: 9\n"
     ]
    }
   ],
   "source": [
    "print(\"Tamaño del dataset luego de eliminación de columnas\")\n",
    "print(f'Total filas: {df.shape[0]}')\n",
    "print(f'Total columnas: {df.shape[1]}')"
   ]
  },
  {
   "cell_type": "code",
   "execution_count": 10,
   "id": "3325d514-e707-4879-8cd4-51bf08c20cf7",
   "metadata": {},
   "outputs": [
    {
     "name": "stdout",
     "output_type": "stream",
     "text": [
      "Valores nulos del dataset: \n",
      "CONTRATO               0\n",
      "ESTADO_DE_CUENTA       0\n",
      "SBSIGNO                0\n",
      "MES                    0\n",
      "AÑO                    0\n",
      "PERIODO_FACTURACION    0\n",
      "VALOR                  0\n",
      "UNIDADES               0\n",
      "CONSECUTIVO_DOC        0\n",
      "dtype: int64\n",
      "\n"
     ]
    }
   ],
   "source": [
    "# Showing the null data from the dataset\n",
    "print(\"Valores nulos del dataset: \\n{}\\n\".format(df.isnull().sum(axis = 0)))"
   ]
  },
  {
   "cell_type": "code",
   "execution_count": 11,
   "id": "7e47db6d-e177-4b01-8fef-282b5b8d35ae",
   "metadata": {},
   "outputs": [
    {
     "name": "stdout",
     "output_type": "stream",
     "text": [
      "Valores únicos en la columna 'CONTRATO': [   65110    65108    65111    74478  1008339  1008340  1008341  1008342\n",
      "  1009239  1300273  1300278  1300279  1300281  1302801  1303048 46530656]\n",
      "- - - - - - - - - - - - - - - - - - - - - - - - - - - -\n",
      "Valores únicos en la columna 'ESTADO_DE_CUENTA': [   115201  12503527  14024221 ... 380600778 382596485 384742340]\n",
      "- - - - - - - - - - - - - - - - - - - - - - - - - - - -\n",
      "Valores únicos en la columna 'SBSIGNO': ['DB' 'CR']\n",
      "- - - - - - - - - - - - - - - - - - - - - - - - - - - -\n",
      "Valores únicos en la columna 'MES': [ 4  5  6  7  8  9 10 11  1  2  3 12]\n",
      "- - - - - - - - - - - - - - - - - - - - - - - - - - - -\n",
      "Valores únicos en la columna 'AÑO': [2006 2007 2008 2009 2010 2011 2012 2013 2014 2015 2016 2017 2018 2019\n",
      " 2021 2022 2023 2024 2020]\n",
      "- - - - - - - - - - - - - - - - - - - - - - - - - - - -\n",
      "Valores únicos en la columna 'PERIODO_FACTURACION': [   579    580  60604  60704  60804  60904  61004  61104  70104  70204\n",
      "  70304  70404  70504  70604  70704  70804  70904  71004  71104  71204\n",
      "  80104  80204  80304  80404  80504  80604  80704  80804  80904  81004\n",
      "  81104  81204  90104  90204  90304  90404  90504  90604  90704  90804\n",
      "  90904  91004  91104  91204 100104 100204 100304 100404 100504 100604\n",
      " 100704 100804 100904 101004  41110  41210 212612 212642 212725 212782\n",
      " 212816 212915 212950 213210 213243 213302 213336 213370 213405 213472\n",
      " 213880 213914 213949 213984 214040 214078 214119 214246 214300 214342\n",
      " 214377 214412 214448 214484 214520 214580 214899 214938 214981 215028\n",
      " 215067 215110 215299 215371 215437 215526 215587 215624 215661 215737\n",
      " 215775 215815 215852 215889 216494 216549 216745 216799 216853 217071\n",
      " 217082 217182 217229 217280 217339 217390 217512 217560 217682 217747\n",
      " 218106 218177 218239 218306 218353 218443 218492 218550 218604 218658\n",
      " 218950 219008 219319 219376 219433 219500 219557 219614 219677 219734\n",
      " 219822 219861 219930 219991 220374 220434 220491 220554 220616 220684\n",
      " 220744 220801 220872 220924 221037 221148 221208 221265 221357 221465\n",
      " 221550 221645 223672 223726 223879 224584 224712 225846 225901 225956\n",
      " 226096 226224 226317 226443 226499 226649 226747 226827 226955    578\n",
      " 221739 221832 221936 222034 222102 222245 222328 222386 222447 222507\n",
      " 222599 222819 222909 223004 223141 223198 223326 223389 223524 223581\n",
      " 223785 224051 224145 224273 224375 224468 224522 224802 224896 224950\n",
      " 225216 225270 225327 225429 225525 225656 225759  61204  60634  60834\n",
      "  60934  61034  61134  61234  70134  70234  70334  70434  70534  70634\n",
      "  70734  70834  70934  71034  71134  71234  80134  80234  80334  80434\n",
      "  80534  80634  80734  80834  80934  81034  81134  81234  90134  90234\n",
      "  90334  90434  90534  90634  90734  90834  90934  91034  91134  91234\n",
      " 100134 100234 100334 100434 100534 100634 100734 100834 100934 101034\n",
      " 341110 212560 212624 212658 212741 212798 212831 212931 212966 213226\n",
      " 213272 213318 213352 213386 213418 213558 213893 213927 213962 213997\n",
      " 214056 214091 214132 214262 214317 214355 214390 214425 214461 214497\n",
      " 214533 214857 214916 214955 215175 215176 215177 215178 215340 215410\n",
      " 215486 215558 215606 215643 215680 215756 215797 215834 215871 215908\n",
      " 216509 216573 216771 216816 216870 217101 217126 217200 217247 217306\n",
      " 217357 217443 217530 217579 217701 218045 218138 218196 218268 218325\n",
      " 218406 218463 218516 218570 218624 218679 218970 219029 219340 219397\n",
      " 219454 219521 219578 219635 219698 219755 219842 219893 219954 220343\n",
      " 220395 220455 220515 220575 220637 220713 220765 220822 220893 220945\n",
      " 221085 221169 221229 221286 221378 221499 221573 221683 221761 221854\n",
      " 221964 222056 222130 222268 222350 222408 222469 222533 222625 222878\n",
      " 222971 223041 223164 223221 223349 223443 223547 223604 223695 223749\n",
      " 223808 223902 224074 224203 224296 224400 224491 224545 224607 224738\n",
      " 224825 224919 224973 225239 225293 225350 225453 225549 225680 225783\n",
      " 225870 225925 226064 226156 226285 226406 226467 226523 226673 226771\n",
      " 226917   4929   4930  60734  80548  80648  80748  80848  80948  81048\n",
      "  81148  81248  90148  90248  91048  91148  91248 100148 100248 100348\n",
      " 100448 100548 100648 100748 100848 100948 101048 481110 101248 212577\n",
      " 212640 212722 212779 212813 212901 212947 213206 213240 213299 213333\n",
      " 213367 213399 213469 213877 213911 213946 213981 214037 214075 214116\n",
      " 214269 214297 214339 214374 214409 214445 214481 214517 214577 214896\n",
      " 214935 214978 215025 215064 215107 215290 215363 215433 215520 215584\n",
      " 215621 215658 215733 215772 215812 215849 215886 216491 216546 216742\n",
      " 216796 216850 216901 217079 217179 217226 217277 217336 217387 217509\n",
      " 217557 217679 217744 218103 218174 218236 218303 218350 218440 218489\n",
      " 218547 218601 218655 218947 219005 219225 219373 219430 219497 219554\n",
      " 219611 219674 219731 219819 219871 219927 219988 220371 220431 220488\n",
      " 220548 220613 220681 220741 220793 220869 220921 221034 221145 221205\n",
      " 221262 221354 221462 221547 221606 221736 221829 221932 222024 222098\n",
      " 222242 222325 222383 222444 222504 222596 222820 222906 223001 223138\n",
      " 223195 223291 223386 223521 223578 223669 223723 223782 223841 224048\n",
      " 224142 224270 224372 224465 224519 224581 224709 224799 224893 224947\n",
      " 225208 225267 225324 225426 225522 225653 225756 225843 225898 225953\n",
      " 226093 226221 226314 226440 226496 226646 226744 226824 226952   4928\n",
      "   4927  90348  90448  90548  90648  90748  90848  90948   6943   6944\n",
      "  60648  60748  60848  60948  61048  61148  61248  70148  70248  70348\n",
      "  70448  70548  70648  70748  70848  70948  71048  71148  71248  80148\n",
      "  80248  80348  80448]\n",
      "- - - - - - - - - - - - - - - - - - - - - - - - - - - -\n",
      "Valores únicos en la columna 'VALOR': [  66686.     82000.     67243.26 ... 6406658.7  7111362.26 7099121.66]\n",
      "- - - - - - - - - - - - - - - - - - - - - - - - - - - -\n",
      "Valores únicos en la columna 'UNIDADES': [ 321.  400.  322. ... 6165. 7140. 7020.]\n",
      "- - - - - - - - - - - - - - - - - - - - - - - - - - - -\n",
      "Valores únicos en la columna 'CONSECUTIVO_DOC': [ 402157874  410088993  413714837 ... 3133092841 3157578108 3184208219]\n",
      "- - - - - - - - - - - - - - - - - - - - - - - - - - - -\n"
     ]
    }
   ],
   "source": [
    "# Valores únicos de cada columna\n",
    "for col in df.columns:\n",
    "    print(f\"Valores únicos en la columna '{col}': {df[col].unique()}\")\n",
    "    print(\"- - - - - - - - - - - - - - - - - - - - - - - - - - - -\")"
   ]
  },
  {
   "cell_type": "code",
   "execution_count": 12,
   "id": "79b82747-a7b4-4b8b-8b4a-505d5bd58ee5",
   "metadata": {},
   "outputs": [
    {
     "name": "stdout",
     "output_type": "stream",
     "text": [
      "Total de valores únicos para la columna 'VALOR': 3254\n",
      "Total de valores únicos para la columna 'UNIDADES': 1846\n"
     ]
    }
   ],
   "source": [
    "print(f\"Total de valores únicos para la columna 'VALOR': {len(df['VALOR'].unique())}\")\n",
    "print(f\"Total de valores únicos para la columna 'UNIDADES': {len(df['UNIDADES'].unique())}\")"
   ]
  },
  {
   "cell_type": "markdown",
   "id": "b8bf3fb5-e912-4cdb-8c0b-3d7ec344ce42",
   "metadata": {},
   "source": [
    "## Histogramas"
   ]
  },
  {
   "cell_type": "code",
   "execution_count": null,
   "id": "bdcda3a9-bfb4-4e88-9be0-35f596cc7a5b",
   "metadata": {},
   "outputs": [],
   "source": []
  },
  {
   "cell_type": "code",
   "execution_count": 13,
   "id": "fca05d64-9b55-4ab1-9442-04480f102414",
   "metadata": {},
   "outputs": [
    {
     "data": {
      "image/png": "[encoded data removed]",
      "text/plain": [
       "<Figure size 1000x600 with 1 Axes>"
      ]
     },
     "metadata": {},
     "output_type": "display_data"
    }
   ],
   "source": [
    "plt.figure(figsize=(10, 6))\n",
    "plt.bar(df['AÑO'], df['UNIDADES'])\n",
    "plt.xlabel('Año')\n",
    "plt.ylabel('Unidades')\n",
    "plt.title('Unidades por Año')\n",
    "plt.grid(True)\n",
    "plt.show()"
   ]
  },
  {
   "cell_type": "code",
   "execution_count": 14,
   "id": "48fc6f86-b0f9-4ef5-b6e7-a2a71050cbe6",
   "metadata": {},
   "outputs": [
    {
     "data": {
      "image/png": "[encoded data removed]",
      "text/plain": [
       "<Figure size 1000x600 with 1 Axes>"
      ]
     },
     "metadata": {},
     "output_type": "display_data"
    }
   ],
   "source": [
    "plt.figure(figsize=(10, 6))\n",
    "plt.bar(df['AÑO'], df['VALOR'])\n",
    "plt.xlabel('Año')\n",
    "plt.ylabel('Valor')\n",
    "plt.title('Valores por Año')\n",
    "plt.grid(True)\n",
    "plt.show()"
   ]
  },
  {
   "cell_type": "code",
   "execution_count": 15,
   "id": "276c9dec-6da0-4643-baf8-cc5f520f4861",
   "metadata": {},
   "outputs": [
    {
     "data": {
      "image/png": "[encoded data removed]",
      "text/plain": [
       "<Figure size 1000x600 with 1 Axes>"
      ]
     },
     "metadata": {},
     "output_type": "display_data"
    }
   ],
   "source": [
    "# Agregar datos en caso de duplicados (suma las unidades por año y mes)\n",
    "df_grouped = df.groupby(['AÑO', 'MES'], as_index=False).sum()\n",
    "\n",
    "# Pivoteamos los datos para tener los años como columnas\n",
    "df_pivot = df_grouped.pivot(index='MES', columns='AÑO', values='UNIDADES')\n",
    "\n",
    "# Crear gráfico de barras apiladas\n",
    "df_pivot.plot(kind='bar', stacked=True, figsize=(10, 6), colormap='tab20')\n",
    "\n",
    "# Agregar títulos y etiquetas\n",
    "plt.title('Relación entre AÑO, MES y UNIDADES')\n",
    "plt.xlabel('Mes')\n",
    "plt.ylabel('Unidades de Energía')\n",
    "\n",
    "# Mostrar leyenda\n",
    "plt.legend(title='Año')\n",
    "\n",
    "# Mostrar el gráfico\n",
    "plt.show()"
   ]
  }
 ],
 "metadata": {
  "kernelspec": {
   "display_name": "Python 3 (ipykernel)",
   "language": "python",
   "name": "python3"
  },
  "language_info": {
   "codemirror_mode": {
    "name": "ipython",
    "version": 3
   },
   "file_extension": ".py",
   "mimetype": "text/x-python",
   "name": "python",
   "nbconvert_exporter": "python",
   "pygments_lexer": "ipython3",
   "version": "3.12.4"
  }
 },
 "nbformat": 4,
 "nbformat_minor": 5
}
